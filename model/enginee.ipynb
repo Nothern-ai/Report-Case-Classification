{
 "cells": [
  {
   "cell_type": "code",
   "execution_count": 1,
   "metadata": {},
   "outputs": [],
   "source": [
    "#set up environment\n",
    "import pandas as pd\n",
    "import numpy as np\n",
    "import json\n",
    "import datetime\n",
    "import seaborn as sns\n",
    "import matplotlib.pyplot as plt\n",
    "import re\n",
    "from torch.utils.data import Dataset\n",
    "from torch.utils.data import DataLoader\n",
    "from torch.nn.utils.rnn import pad_sequence\n",
    "import torch\n",
    "from transformers import BertForSequenceClassification, BertConfig\n",
    "from transformers import BertPreTrainedModel, BertModel\n",
    "import torch.nn as nn\n",
    "from torch.nn import CrossEntropyLoss\n",
    "from sklearn.model_selection import train_test_split\n",
    "from torch.nn.utils.rnn import pad_sequence\n",
    "from transformers import BertTokenizer\n",
    "from IPython.display import clear_output"
   ]
  },
  {
   "cell_type": "code",
   "execution_count": 2,
   "metadata": {},
   "outputs": [],
   "source": [
    "from sklearn.model_selection import train_test_split\n",
    "import random"
   ]
  },
  {
   "cell_type": "code",
   "execution_count": 2,
   "metadata": {},
   "outputs": [
    {
     "name": "stdout",
     "output_type": "stream",
     "text": [
      "PyTorch version： 1.12.1\n"
     ]
    }
   ],
   "source": [
    "PRETRAINED_MODEL_NAME = \"bert-base-chinese\"  \n",
    "\n",
    "# get tokenizer\n",
    "tokenizer = BertTokenizer.from_pretrained(PRETRAINED_MODEL_NAME)\n",
    "\n",
    "clear_output()\n",
    "print(\"PyTorch version：\", torch.__version__)"
   ]
  },
  {
   "cell_type": "code",
   "execution_count": 3,
   "metadata": {},
   "outputs": [
    {
     "name": "stdout",
     "output_type": "stream",
     "text": [
      "PyTorch version： 1.12.1\n"
     ]
    }
   ],
   "source": [
    "print(\"PyTorch version：\", torch.__version__)"
   ]
  },
  {
   "cell_type": "markdown",
   "metadata": {},
   "source": [
    "# Data Cleaning"
   ]
  },
  {
   "cell_type": "code",
   "execution_count": 6,
   "metadata": {},
   "outputs": [
    {
     "name": "stdout",
     "output_type": "stream",
     "text": [
      "                                                来电内容    举报专项\n",
      "0  市民于2023-12-17 ，反映违法建房占道种树和村民口粮地转租钱没发问题，见热线-231...  治理违法建设\n",
      "1  市民反映，朝阳区网信大厦B座和霄云路辅路交叉口的地方，有卖麻辣烫的，还有个老奶奶卖烤肠的没有...  占道经营整治\n",
      "2  市民反映，在房山区城关街道吉兴苑1号楼10单元3楼302是群租房，里面居住了很多人，非常的影...   群租房治理\n",
      "3  工单来源：微信服务号，此工单内容为网民留言时填写的标题及原文。 \\n============...  治理违法建设\n",
      "4  市民反映，位于通州区宋庄镇北京工商大学嘉华学院南门存在街头游商现象，市民希望能够帮助得到解决...  占道经营整治\n"
     ]
    }
   ],
   "source": [
    "file_path = '12345_raw_data.xlsx'\n",
    "data = pd.read_excel(file_path)\n",
    "\n",
    "# extract the features and labels\n",
    "classification_data = data[['来电内容', '举报专项']]\n",
    "\n",
    "# show first rows\n",
    "print(classification_data.head())"
   ]
  },
  {
   "cell_type": "code",
   "execution_count": 4,
   "metadata": {},
   "outputs": [],
   "source": [
    "# save as json\n",
    "json_file_path = 'data_to_json.json'\n",
    "classification_data.to_json(json_file_path, orient='records', force_ascii=False)"
   ]
  },
  {
   "cell_type": "code",
   "execution_count": 45,
   "metadata": {},
   "outputs": [
    {
     "name": "stdout",
     "output_type": "stream",
     "text": [
      "                                                来电内容    举报专项\n",
      "0  市民于2023-12-17 ，反映违法建房占道种树和村民口粮地转租钱没发问题，见热线-231...  治理违法建设\n",
      "1  市民反映，朝阳区网信大厦B座和霄云路辅路交叉口的地方，有卖麻辣烫的，还有个老奶奶卖烤肠的没有...  占道经营整治\n",
      "2  市民反映，在房山区城关街道吉兴苑1号楼10单元3楼302是群租房，里面居住了很多人，非常的影...   群租房治理\n",
      "3  工单来源：微信服务号，此工单内容为网民留言时填写的标题及原文。 \\n============...  治理违法建设\n",
      "4  市民反映，位于通州区宋庄镇北京工商大学嘉华学院南门存在街头游商现象，市民希望能够帮助得到解决...  占道经营整治\n"
     ]
    }
   ],
   "source": [
    "with open(json_file_path, 'r', encoding='utf-8') as f:\n",
    "    data = json.load(f)\n",
    "\n",
    "df = pd.DataFrame(data)\n",
    "print(df.head())"
   ]
  },
  {
   "cell_type": "code",
   "execution_count": 27,
   "metadata": {},
   "outputs": [
    {
     "data": {
      "text/plain": [
       "<bound method DataFrame.info of                                                      来电内容      举报专项\n",
       "0       市民于2023-12-17 ，反映违法建房占道种树和村民口粮地转租钱没发问题，见热线-231...    治理违法建设\n",
       "1       市民反映，朝阳区网信大厦B座和霄云路辅路交叉口的地方，有卖麻辣烫的，还有个老奶奶卖烤肠的没有...    占道经营整治\n",
       "2       市民反映，在房山区城关街道吉兴苑1号楼10单元3楼302是群租房，里面居住了很多人，非常的影...     群租房治理\n",
       "3       工单来源：微信服务号，此工单内容为网民留言时填写的标题及原文。 \\n============...    治理违法建设\n",
       "4       市民反映，位于通州区宋庄镇北京工商大学嘉华学院南门存在街头游商现象，市民希望能够帮助得到解决...    占道经营整治\n",
       "...                                                   ...       ...\n",
       "255204  市民反映，在海淀区上庄镇海淀嘉俊小区与三嘉信苑小区之间红绿灯垃圾桶处有一辆白色轿车正在售卖水...    占道经营整治\n",
       "255205  市民反映，在丰台区太平桥街道万泉盛景园7号楼3单元704，房间内有打隔断，里面居住了四户人。...     群租房治理\n",
       "255206  市民反映，自家住在海淀区田村路街道阜石路兰德华庭2号楼1单元，市民称小区新换了物业，小区内没...  地下空间清理整治\n",
       "255207  市民反映，2022年12月23日10:40海淀区海淀医院进口处旁边有夫妻两个人烤红薯和卖板栗...    占道经营整治\n",
       "255208  市民反映，大兴区旧宫云龙家园21栋1单元602室，存在群租房，已经反映过没有处理，希望尽快给...     群租房治理\n",
       "\n",
       "[255209 rows x 2 columns]>"
      ]
     },
     "execution_count": 27,
     "metadata": {},
     "output_type": "execute_result"
    }
   ],
   "source": [
    "df.info"
   ]
  },
  {
   "cell_type": "code",
   "execution_count": 29,
   "metadata": {},
   "outputs": [
    {
     "data": {
      "text/html": [
       "<div>\n",
       "<style scoped>\n",
       "    .dataframe tbody tr th:only-of-type {\n",
       "        vertical-align: middle;\n",
       "    }\n",
       "\n",
       "    .dataframe tbody tr th {\n",
       "        vertical-align: top;\n",
       "    }\n",
       "\n",
       "    .dataframe thead th {\n",
       "        text-align: right;\n",
       "    }\n",
       "</style>\n",
       "<table border=\"1\" class=\"dataframe\">\n",
       "  <thead>\n",
       "    <tr style=\"text-align: right;\">\n",
       "      <th></th>\n",
       "      <th>来电内容</th>\n",
       "      <th>举报专项</th>\n",
       "    </tr>\n",
       "  </thead>\n",
       "  <tbody>\n",
       "    <tr>\n",
       "      <th>12539</th>\n",
       "      <td>市民反映，之前于2023-11-29 反映小区地库出入口只开放一个问题，见热线-231129...</td>\n",
       "      <td>地下空间清理整治</td>\n",
       "    </tr>\n",
       "    <tr>\n",
       "      <th>199014</th>\n",
       "      <td>工单来源：微信服务号，此工单内容为网民留言时填写的标题及原文。 \\n============...</td>\n",
       "      <td>治理违法建设</td>\n",
       "    </tr>\n",
       "    <tr>\n",
       "      <th>9908</th>\n",
       "      <td>市民反映，顺义区南彩镇九王庄村，村内有个村民（不清楚名字）住在48号，在公共区域搭建违建，并...</td>\n",
       "      <td>治理违法建设</td>\n",
       "    </tr>\n",
       "    <tr>\n",
       "      <th>197336</th>\n",
       "      <td>市民反映，平谷区金海湖镇祖务村有外村人在购买土地建墙圈占，希望帮助处理，来电反映圈占土地问题...</td>\n",
       "      <td>治理违法建设</td>\n",
       "    </tr>\n",
       "    <tr>\n",
       "      <th>122327</th>\n",
       "      <td>市民反映，东城区南颂年胡同5号楼3单元501，是2室1厅和阁楼，客厅被打成隔断，一共居住7个...</td>\n",
       "      <td>治理违法建设</td>\n",
       "    </tr>\n",
       "    <tr>\n",
       "      <th>48124</th>\n",
       "      <td>市民反映，在朝阳区丰和乡常营中路远洋3期1号，此地的围挡市民怀疑是超出范围了，怀疑有一些侵占...</td>\n",
       "      <td>施工围挡治理</td>\n",
       "    </tr>\n",
       "    <tr>\n",
       "      <th>102119</th>\n",
       "      <td>市民反映，延庆区（还没分属于哪个街乡镇）碧桂园小区2期40号楼111地下室，地下室严重漏水，...</td>\n",
       "      <td>地下空间清理整治</td>\n",
       "    </tr>\n",
       "    <tr>\n",
       "      <th>15793</th>\n",
       "      <td>市民反映，通州区张家湾镇里二泗村227号属于违建，期间自己反馈过此事，村委会回复自己称该房屋...</td>\n",
       "      <td>治理违法建设</td>\n",
       "    </tr>\n",
       "    <tr>\n",
       "      <th>29333</th>\n",
       "      <td>市民反映，于10月31日反映希望大队把合同剩余钱财退还给自己及违建问题。 见热线-23103...</td>\n",
       "      <td>治理违法建设</td>\n",
       "    </tr>\n",
       "    <tr>\n",
       "      <th>32889</th>\n",
       "      <td>工单来源：微信服务号，此工单内容为网民留言时填写的标题及原文。 \\n============...</td>\n",
       "      <td>治理违法建设</td>\n",
       "    </tr>\n",
       "  </tbody>\n",
       "</table>\n",
       "</div>"
      ],
      "text/plain": [
       "                                                     来电内容      举报专项\n",
       "12539   市民反映，之前于2023-11-29 反映小区地库出入口只开放一个问题，见热线-231129...  地下空间清理整治\n",
       "199014  工单来源：微信服务号，此工单内容为网民留言时填写的标题及原文。 \\n============...    治理违法建设\n",
       "9908    市民反映，顺义区南彩镇九王庄村，村内有个村民（不清楚名字）住在48号，在公共区域搭建违建，并...    治理违法建设\n",
       "197336  市民反映，平谷区金海湖镇祖务村有外村人在购买土地建墙圈占，希望帮助处理，来电反映圈占土地问题...    治理违法建设\n",
       "122327  市民反映，东城区南颂年胡同5号楼3单元501，是2室1厅和阁楼，客厅被打成隔断，一共居住7个...    治理违法建设\n",
       "48124   市民反映，在朝阳区丰和乡常营中路远洋3期1号，此地的围挡市民怀疑是超出范围了，怀疑有一些侵占...    施工围挡治理\n",
       "102119  市民反映，延庆区（还没分属于哪个街乡镇）碧桂园小区2期40号楼111地下室，地下室严重漏水，...  地下空间清理整治\n",
       "15793   市民反映，通州区张家湾镇里二泗村227号属于违建，期间自己反馈过此事，村委会回复自己称该房屋...    治理违法建设\n",
       "29333   市民反映，于10月31日反映希望大队把合同剩余钱财退还给自己及违建问题。 见热线-23103...    治理违法建设\n",
       "32889   工单来源：微信服务号，此工单内容为网民留言时填写的标题及原文。 \\n============...    治理违法建设"
      ]
     },
     "execution_count": 29,
     "metadata": {},
     "output_type": "execute_result"
    }
   ],
   "source": [
    "df.sample(10)"
   ]
  },
  {
   "cell_type": "code",
   "execution_count": 78,
   "metadata": {
    "scrolled": true
   },
   "outputs": [
    {
     "data": {
      "text/html": [
       "<div>\n",
       "<style scoped>\n",
       "    .dataframe tbody tr th:only-of-type {\n",
       "        vertical-align: middle;\n",
       "    }\n",
       "\n",
       "    .dataframe tbody tr th {\n",
       "        vertical-align: top;\n",
       "    }\n",
       "\n",
       "    .dataframe thead th {\n",
       "        text-align: right;\n",
       "    }\n",
       "</style>\n",
       "<table border=\"1\" class=\"dataframe\">\n",
       "  <thead>\n",
       "    <tr style=\"text-align: right;\">\n",
       "      <th></th>\n",
       "      <th>来电内容</th>\n",
       "      <th>举报专项</th>\n",
       "    </tr>\n",
       "  </thead>\n",
       "  <tbody>\n",
       "    <tr>\n",
       "      <th>0</th>\n",
       "      <td>市民于2023-12-17 ，反映违法建房占道种树和村民口粮地转租钱没发问题，见热线-231...</td>\n",
       "      <td>治理违法建设</td>\n",
       "    </tr>\n",
       "    <tr>\n",
       "      <th>1</th>\n",
       "      <td>市民反映，朝阳区网信大厦B座和霄云路辅路交叉口的地方，有卖麻辣烫的，还有个老奶奶卖烤肠的没有...</td>\n",
       "      <td>占道经营整治</td>\n",
       "    </tr>\n",
       "    <tr>\n",
       "      <th>2</th>\n",
       "      <td>市民反映，在房山区城关街道吉兴苑1号楼10单元3楼302是群租房，里面居住了很多人，非常的影...</td>\n",
       "      <td>群租房治理</td>\n",
       "    </tr>\n",
       "    <tr>\n",
       "      <th>3</th>\n",
       "      <td>\\n留言标题：对12345回复有疑问，请人工联系本人，谢谢\\n留言原文：2023.12.21...</td>\n",
       "      <td>治理违法建设</td>\n",
       "    </tr>\n",
       "    <tr>\n",
       "      <th>4</th>\n",
       "      <td>市民反映，位于通州区宋庄镇北京工商大学嘉华学院南门存在街头游商现象，市民希望能够帮助得到解决...</td>\n",
       "      <td>占道经营整治</td>\n",
       "    </tr>\n",
       "  </tbody>\n",
       "</table>\n",
       "</div>"
      ],
      "text/plain": [
       "                                                来电内容    举报专项\n",
       "0  市民于2023-12-17 ，反映违法建房占道种树和村民口粮地转租钱没发问题，见热线-231...  治理违法建设\n",
       "1  市民反映，朝阳区网信大厦B座和霄云路辅路交叉口的地方，有卖麻辣烫的，还有个老奶奶卖烤肠的没有...  占道经营整治\n",
       "2  市民反映，在房山区城关街道吉兴苑1号楼10单元3楼302是群租房，里面居住了很多人，非常的影...   群租房治理\n",
       "3  \\n留言标题：对12345回复有疑问，请人工联系本人，谢谢\\n留言原文：2023.12.21...  治理违法建设\n",
       "4  市民反映，位于通州区宋庄镇北京工商大学嘉华学院南门存在街头游商现象，市民希望能够帮助得到解决...  占道经营整治"
      ]
     },
     "execution_count": 78,
     "metadata": {},
     "output_type": "execute_result"
    }
   ],
   "source": [
    "# notice some data has missing values, upon checking the original data, consider this as invalid data.\n",
    "def clean_text(text):\n",
    "    if text.startswith('工单来源：'):\n",
    "        # 移除 \"工单来源：\" 开头一直到 \"=\" 结束的部分\n",
    "        text = re.sub(r\"工单来源：.*?={2,}\", \"\", text, flags=re.DOTALL)\n",
    "        text = text.lstrip('\\n').replace('\\n留言', '')\n",
    "        # 检查结尾是否有“-”，如果有，移除“-”之后的所有内容\n",
    "        text = re.sub(r\"-.*$\", \"\", text, flags=re.DOTALL)\n",
    "    text = re.sub(r\"工单流转.*$\", \"\", text, flags=re.DOTALL)\n",
    "    return text\n",
    "\n",
    "# apply\n",
    "df['来电内容'] = df['来电内容'].apply(clean_text)\n",
    "\n",
    "# display\n",
    "df.head()"
   ]
  },
  {
   "cell_type": "code",
   "execution_count": 79,
   "metadata": {},
   "outputs": [
    {
     "data": {
      "text/plain": [
       "来电内容    0\n",
       "举报专项    0\n",
       "dtype: int64"
      ]
     },
     "execution_count": 79,
     "metadata": {},
     "output_type": "execute_result"
    }
   ],
   "source": [
    "#  View null values\n",
    "df.isna().sum()"
   ]
  },
  {
   "cell_type": "code",
   "execution_count": 80,
   "metadata": {
    "scrolled": true
   },
   "outputs": [
    {
     "data": {
      "text/html": [
       "<div>\n",
       "<style scoped>\n",
       "    .dataframe tbody tr th:only-of-type {\n",
       "        vertical-align: middle;\n",
       "    }\n",
       "\n",
       "    .dataframe tbody tr th {\n",
       "        vertical-align: top;\n",
       "    }\n",
       "\n",
       "    .dataframe thead th {\n",
       "        text-align: right;\n",
       "    }\n",
       "</style>\n",
       "<table border=\"1\" class=\"dataframe\">\n",
       "  <thead>\n",
       "    <tr style=\"text-align: right;\">\n",
       "      <th></th>\n",
       "      <th>来电内容</th>\n",
       "      <th>举报专项</th>\n",
       "    </tr>\n",
       "  </thead>\n",
       "  <tbody>\n",
       "    <tr>\n",
       "      <th>count</th>\n",
       "      <td>255209</td>\n",
       "      <td>255209</td>\n",
       "    </tr>\n",
       "    <tr>\n",
       "      <th>unique</th>\n",
       "      <td>245080</td>\n",
       "      <td>11</td>\n",
       "    </tr>\n",
       "    <tr>\n",
       "      <th>top</th>\n",
       "      <td>朝阳路和十里堡路丁字路口西北角，去年盖起一违章建筑，面积约130平米。室内装有空调，照明。要...</td>\n",
       "      <td>治理违法建设</td>\n",
       "    </tr>\n",
       "    <tr>\n",
       "      <th>freq</th>\n",
       "      <td>55</td>\n",
       "      <td>139736</td>\n",
       "    </tr>\n",
       "  </tbody>\n",
       "</table>\n",
       "</div>"
      ],
      "text/plain": [
       "                                                     来电内容    举报专项\n",
       "count                                              255209  255209\n",
       "unique                                             245080      11\n",
       "top     朝阳路和十里堡路丁字路口西北角，去年盖起一违章建筑，面积约130平米。室内装有空调，照明。要...  治理违法建设\n",
       "freq                                                   55  139736"
      ]
     },
     "execution_count": 80,
     "metadata": {},
     "output_type": "execute_result"
    }
   ],
   "source": [
    "df.describe()"
   ]
  },
  {
   "cell_type": "code",
   "execution_count": 81,
   "metadata": {},
   "outputs": [
    {
     "name": "stdout",
     "output_type": "stream",
     "text": [
      "                                                     来电内容    举报专项\n",
      "210406  \\n\\n\\n海淀区天阅西山社区存在几十处违法建设，这些违建与社区规划建设方案严重不符，但是规...  治理违法建设\n",
      "210630  \\n\\n\\n海淀区天阅西山社区存在几十处违法建设，这些违建与社区规划建设方案严重不符，但是规...  治理违法建设\n",
      "210639  \\n\\n\\n海淀区天阅西山社区存在几十处违法建设，这些违建与社区规划建设方案严重不符，但是规...  治理违法建设\n",
      "210687  \\n\\n\\n海淀区天阅西山社区存在几十处违法建设，这些违建与社区规划建设方案严重不符，但是规...  治理违法建设\n",
      "244528  \\n\\n\\n社区内部大量非法的建筑自收房之日起一直存在至今，群众多次投诉举报，相关部门就是一...  治理违法建设\n",
      "...                                                   ...     ...\n",
      "250177               静安里中街能仁居三村烧烤距是否有建筑规划许可，什么时候能提供产权相关资料  治理违法建设\n",
      "250178               静安里中街能仁居三村烧烤距是否有建筑规划许可，什么时候能提供产权相关资料  治理违法建设\n",
      "250179               静安里中街能仁居三村烧烤距是否有建筑规划许可，什么时候能提供产权相关资料  治理违法建设\n",
      "253151  顺义区牛栏山史家口村赵瑞占到私搭乱建，堆积杂物，致使我多年无法通行，存在严重安全隐患。该问题...  治理违法建设\n",
      "250756  顺义区牛栏山史家口村赵瑞占到私搭乱建，堆积杂物，致使我多年无法通行，存在严重安全隐患。该问题...  治理违法建设\n",
      "\n",
      "[16070 rows x 2 columns]\n"
     ]
    }
   ],
   "source": [
    "duplicates = df[df.duplicated('来电内容', keep=False)]\n",
    "\n",
    "# sort to adjacent\n",
    "duplicates = duplicates.sort_values('来电内容')\n",
    "\n",
    "# display\n",
    "print(duplicates)"
   ]
  },
  {
   "cell_type": "code",
   "execution_count": 82,
   "metadata": {},
   "outputs": [
    {
     "name": "stdout",
     "output_type": "stream",
     "text": [
      "                                                     来电内容      举报专项\n",
      "558      \\n留言标题：投诉紫竹院街道\\n留言原文：在悦园地下室群租治理或地下室违规出租方面，紫竹院...  地下空间清理整治\n",
      "5913     \\n留言标题：投诉紫竹院街道\\n留言原文：在悦园地下室群租治理或地下室违规出租方面，紫竹院...  地下空间清理整治\n",
      "9488     \\n留言标题：投诉紫竹院街道\\n留言原文：在悦园地下室群租治理或地下室违规出租方面，紫竹院...  地下空间清理整治\n",
      "14187    \\n留言标题：投诉紫竹院街道\\n留言原文：在悦园地下室群租治理或地下室违规出租方面，紫竹院...  地下空间清理整治\n",
      "19279    \\n留言标题：投诉紫竹院街道\\n留言原文：在悦园地下室群租治理或地下室违规出租方面，紫竹院...     群租房治理\n",
      "...                                                   ...       ...\n",
      "252361  紫郡兰园小区13-2-102业主将地下仓储改造用于居住，违规破坏房屋主体结构且占用消防通道，...  地下空间清理整治\n",
      "252711  紫郡兰园小区13-2-102业主将地下仓储改造用于居住，违规破坏房屋主体结构且占用消防通道，...    治理违法建设\n",
      "252712  紫郡兰园小区13-2-102业主将地下仓储改造用于居住，违规破坏房屋主体结构且占用消防通道，...  地下空间清理整治\n",
      "255123  \\n海保发打着便民惠民的旗号非法开餐饮\\n\\n海淀区保障性住房发展有限公司身为区属重点国企，...    治理违法建设\n",
      "255146  \\n海保发打着便民惠民的旗号非法开餐饮\\n\\n海淀区保障性住房发展有限公司身为区属重点国企，...  无证无照经营整治\n",
      "\n",
      "[309 rows x 2 columns]\n"
     ]
    }
   ],
   "source": [
    "# check if the duplicated feature has the same label\n",
    "duplicates_grouped = duplicates.groupby('来电内容')['举报专项'].nunique()\n",
    "different_labels = duplicates_grouped[duplicates_grouped > 1].index\n",
    "different_labels_data = duplicates[duplicates['来电内容'].isin(different_labels)]\n",
    "\n",
    "print(different_labels_data)\n",
    "\n"
   ]
  },
  {
   "cell_type": "code",
   "execution_count": 87,
   "metadata": {},
   "outputs": [],
   "source": [
    "df = df[~df['来电内容'].isin(different_labels)]"
   ]
  },
  {
   "cell_type": "code",
   "execution_count": 88,
   "metadata": {},
   "outputs": [
    {
     "name": "stdout",
     "output_type": "stream",
     "text": [
      "                                                     来电内容    举报专项\n",
      "210687  \\n\\n\\n海淀区天阅西山社区存在几十处违法建设，这些违建与社区规划建设方案严重不符，但是规...  治理违法建设\n",
      "210639  \\n\\n\\n海淀区天阅西山社区存在几十处违法建设，这些违建与社区规划建设方案严重不符，但是规...  治理违法建设\n",
      "210630  \\n\\n\\n海淀区天阅西山社区存在几十处违法建设，这些违建与社区规划建设方案严重不符，但是规...  治理违法建设\n",
      "210406  \\n\\n\\n海淀区天阅西山社区存在几十处违法建设，这些违建与社区规划建设方案严重不符，但是规...  治理违法建设\n",
      "244412  \\n\\n\\n社区内部大量非法的建筑自收房之日起一直存在至今，群众多次投诉举报，相关部门就是一...  治理违法建设\n",
      "...                                                   ...     ...\n",
      "250179               静安里中街能仁居三村烧烤距是否有建筑规划许可，什么时候能提供产权相关资料  治理违法建设\n",
      "250178               静安里中街能仁居三村烧烤距是否有建筑规划许可，什么时候能提供产权相关资料  治理违法建设\n",
      "250177               静安里中街能仁居三村烧烤距是否有建筑规划许可，什么时候能提供产权相关资料  治理违法建设\n",
      "250756  顺义区牛栏山史家口村赵瑞占到私搭乱建，堆积杂物，致使我多年无法通行，存在严重安全隐患。该问题...  治理违法建设\n",
      "253151  顺义区牛栏山史家口村赵瑞占到私搭乱建，堆积杂物，致使我多年无法通行，存在严重安全隐患。该问题...  治理违法建设\n",
      "\n",
      "[15761 rows x 2 columns]\n"
     ]
    }
   ],
   "source": [
    "duplicates = df[df.duplicated('来电内容', keep=False)]\n",
    "\n",
    "# sort to adjacent\n",
    "duplicates = duplicates.sort_values('来电内容')\n",
    "\n",
    "# display\n",
    "print(duplicates)"
   ]
  },
  {
   "cell_type": "code",
   "execution_count": 91,
   "metadata": {},
   "outputs": [],
   "source": [
    "df = df.drop_duplicates()"
   ]
  },
  {
   "cell_type": "code",
   "execution_count": 92,
   "metadata": {},
   "outputs": [
    {
     "data": {
      "text/html": [
       "<div>\n",
       "<style scoped>\n",
       "    .dataframe tbody tr th:only-of-type {\n",
       "        vertical-align: middle;\n",
       "    }\n",
       "\n",
       "    .dataframe tbody tr th {\n",
       "        vertical-align: top;\n",
       "    }\n",
       "\n",
       "    .dataframe thead th {\n",
       "        text-align: right;\n",
       "    }\n",
       "</style>\n",
       "<table border=\"1\" class=\"dataframe\">\n",
       "  <thead>\n",
       "    <tr style=\"text-align: right;\">\n",
       "      <th></th>\n",
       "      <th>来电内容</th>\n",
       "      <th>举报专项</th>\n",
       "    </tr>\n",
       "  </thead>\n",
       "  <tbody>\n",
       "    <tr>\n",
       "      <th>0</th>\n",
       "      <td>市民于2023-12-17 ，反映违法建房占道种树和村民口粮地转租钱没发问题，见热线-231...</td>\n",
       "      <td>治理违法建设</td>\n",
       "    </tr>\n",
       "    <tr>\n",
       "      <th>1</th>\n",
       "      <td>市民反映，朝阳区网信大厦B座和霄云路辅路交叉口的地方，有卖麻辣烫的，还有个老奶奶卖烤肠的没有...</td>\n",
       "      <td>占道经营整治</td>\n",
       "    </tr>\n",
       "    <tr>\n",
       "      <th>2</th>\n",
       "      <td>市民反映，在房山区城关街道吉兴苑1号楼10单元3楼302是群租房，里面居住了很多人，非常的影...</td>\n",
       "      <td>群租房治理</td>\n",
       "    </tr>\n",
       "    <tr>\n",
       "      <th>3</th>\n",
       "      <td>\\n留言标题：对12345回复有疑问，请人工联系本人，谢谢\\n留言原文：2023.12.21...</td>\n",
       "      <td>治理违法建设</td>\n",
       "    </tr>\n",
       "    <tr>\n",
       "      <th>4</th>\n",
       "      <td>市民反映，位于通州区宋庄镇北京工商大学嘉华学院南门存在街头游商现象，市民希望能够帮助得到解决...</td>\n",
       "      <td>占道经营整治</td>\n",
       "    </tr>\n",
       "    <tr>\n",
       "      <th>...</th>\n",
       "      <td>...</td>\n",
       "      <td>...</td>\n",
       "    </tr>\n",
       "    <tr>\n",
       "      <th>255204</th>\n",
       "      <td>市民反映，在海淀区上庄镇海淀嘉俊小区与三嘉信苑小区之间红绿灯垃圾桶处有一辆白色轿车正在售卖水...</td>\n",
       "      <td>占道经营整治</td>\n",
       "    </tr>\n",
       "    <tr>\n",
       "      <th>255205</th>\n",
       "      <td>市民反映，在丰台区太平桥街道万泉盛景园7号楼3单元704，房间内有打隔断，里面居住了四户人。...</td>\n",
       "      <td>群租房治理</td>\n",
       "    </tr>\n",
       "    <tr>\n",
       "      <th>255206</th>\n",
       "      <td>市民反映，自家住在海淀区田村路街道阜石路兰德华庭2号楼1单元，市民称小区新换了物业，小区内没...</td>\n",
       "      <td>地下空间清理整治</td>\n",
       "    </tr>\n",
       "    <tr>\n",
       "      <th>255207</th>\n",
       "      <td>市民反映，2022年12月23日10:40海淀区海淀医院进口处旁边有夫妻两个人烤红薯和卖板栗...</td>\n",
       "      <td>占道经营整治</td>\n",
       "    </tr>\n",
       "    <tr>\n",
       "      <th>255208</th>\n",
       "      <td>市民反映，大兴区旧宫云龙家园21栋1单元602室，存在群租房，已经反映过没有处理，希望尽快给...</td>\n",
       "      <td>群租房治理</td>\n",
       "    </tr>\n",
       "  </tbody>\n",
       "</table>\n",
       "<p>245005 rows × 2 columns</p>\n",
       "</div>"
      ],
      "text/plain": [
       "                                                     来电内容      举报专项\n",
       "0       市民于2023-12-17 ，反映违法建房占道种树和村民口粮地转租钱没发问题，见热线-231...    治理违法建设\n",
       "1       市民反映，朝阳区网信大厦B座和霄云路辅路交叉口的地方，有卖麻辣烫的，还有个老奶奶卖烤肠的没有...    占道经营整治\n",
       "2       市民反映，在房山区城关街道吉兴苑1号楼10单元3楼302是群租房，里面居住了很多人，非常的影...     群租房治理\n",
       "3       \\n留言标题：对12345回复有疑问，请人工联系本人，谢谢\\n留言原文：2023.12.21...    治理违法建设\n",
       "4       市民反映，位于通州区宋庄镇北京工商大学嘉华学院南门存在街头游商现象，市民希望能够帮助得到解决...    占道经营整治\n",
       "...                                                   ...       ...\n",
       "255204  市民反映，在海淀区上庄镇海淀嘉俊小区与三嘉信苑小区之间红绿灯垃圾桶处有一辆白色轿车正在售卖水...    占道经营整治\n",
       "255205  市民反映，在丰台区太平桥街道万泉盛景园7号楼3单元704，房间内有打隔断，里面居住了四户人。...     群租房治理\n",
       "255206  市民反映，自家住在海淀区田村路街道阜石路兰德华庭2号楼1单元，市民称小区新换了物业，小区内没...  地下空间清理整治\n",
       "255207  市民反映，2022年12月23日10:40海淀区海淀医院进口处旁边有夫妻两个人烤红薯和卖板栗...    占道经营整治\n",
       "255208  市民反映，大兴区旧宫云龙家园21栋1单元602室，存在群租房，已经反映过没有处理，希望尽快给...     群租房治理\n",
       "\n",
       "[245005 rows x 2 columns]"
      ]
     },
     "execution_count": 92,
     "metadata": {},
     "output_type": "execute_result"
    }
   ],
   "source": [
    "df"
   ]
  },
  {
   "cell_type": "code",
   "execution_count": 96,
   "metadata": {},
   "outputs": [],
   "source": [
    "df = df.reset_index(drop=True)"
   ]
  },
  {
   "cell_type": "code",
   "execution_count": 97,
   "metadata": {},
   "outputs": [],
   "source": [
    "data_dict = df.to_dict(orient='records')\n",
    "\n",
    "json_file_name = 'data_cleaned.json'\n",
    "\n",
    "with open(json_file_name, 'w') as json_file:\n",
    "    json.dump(data_dict, json_file)"
   ]
  },
  {
   "cell_type": "markdown",
   "metadata": {},
   "source": [
    "# Bert Tokens"
   ]
  },
  {
   "cell_type": "code",
   "execution_count": 95,
   "metadata": {},
   "outputs": [
    {
     "name": "stdout",
     "output_type": "stream",
     "text": [
      "                                                来电内容    举报专项\n",
      "0  市民于2023-12-17 ，反映违法建房占道种树和村民口粮地转租钱没发问题，见热线-231...  治理违法建设\n",
      "1  市民反映，朝阳区网信大厦B座和霄云路辅路交叉口的地方，有卖麻辣烫的，还有个老奶奶卖烤肠的没有...  占道经营整治\n",
      "2  市民反映，在房山区城关街道吉兴苑1号楼10单元3楼302是群租房，里面居住了很多人，非常的影...   群租房治理\n",
      "3  \\n留言标题：对12345回复有疑问，请人工联系本人，谢谢\\n留言原文：2023.12.21...  治理违法建设\n",
      "4  市民反映，位于通州区宋庄镇北京工商大学嘉华学院南门存在街头游商现象，市民希望能够帮助得到解决...  占道经营整治\n"
     ]
    }
   ],
   "source": [
    "with open(json_file_name, 'r', encoding='utf-8') as f:\n",
    "    data = json.load(f)\n",
    "\n",
    "df = pd.DataFrame(data)\n",
    "print(df.head())"
   ]
  },
  {
   "cell_type": "code",
   "execution_count": 99,
   "metadata": {},
   "outputs": [
    {
     "data": {
      "text/plain": [
       "array(['治理违法建设', '占道经营整治', '群租房治理', '无证无照经营整治', '地下空间清理整治',\n",
       "       '区域性市场（区域性市场疏解提升、商圈商场改造）', '施工围挡治理', '发展老年餐桌', '建设提升基本便民服务网点',\n",
       "       '\"开墙打洞\"整治', '桥下空间治理提升'], dtype=object)"
      ]
     },
     "execution_count": 99,
     "metadata": {},
     "output_type": "execute_result"
    }
   ],
   "source": [
    "df['举报专项'].unique()"
   ]
  },
  {
   "cell_type": "code",
   "execution_count": 103,
   "metadata": {},
   "outputs": [],
   "source": [
    "bert_chinese_tokenizer = BertTokenizer.from_pretrained('bert-base-chinese')"
   ]
  },
  {
   "cell_type": "code",
   "execution_count": 126,
   "metadata": {},
   "outputs": [],
   "source": [
    "class ComplaintsDataset(Dataset):\n",
    "    def __init__(self, mode, tokenizer, json_file_name, split_ratio=0.8):\n",
    "        assert mode in [\"train\", \"val\"]  # 改为 \"train\" 和 \"val\"\n",
    "        self.mode = mode\n",
    "        with open(json_file_name, 'r', encoding='utf-8') as f:\n",
    "            data = json.load(f)\n",
    "        df = pd.DataFrame(data)\n",
    "\n",
    "        # 分割数据集为训练集和验证集\n",
    "        train_df, val_df = train_test_split(df, train_size=split_ratio, random_state=42)\n",
    "        self.df = train_df if mode == \"train\" else val_df\n",
    "        self.len = len(self.df)\n",
    "\n",
    "        # 创建标签映射\n",
    "        self.label_map = {label: i for i, label in enumerate(df['举报专项'].unique())}\n",
    "        self.tokenizer = tokenizer\n",
    "\n",
    "    def __getitem__(self, idx):\n",
    "        text = self.df.iloc[idx]['来电内容']\n",
    "        label = self.df.iloc[idx]['举报专项']\n",
    "        label_id = self.label_map[label]\n",
    "        label_tensor = torch.tensor(label_id)\n",
    "\n",
    "        # 对文本进行分词\n",
    "        word_pieces = [\"[CLS]\"]\n",
    "        tokens = self.tokenizer.tokenize(text)\n",
    "        word_pieces += tokens + [\"[SEP]\"]\n",
    "        ids = self.tokenizer.convert_tokens_to_ids(word_pieces)\n",
    "        tokens_tensor = torch.tensor(ids)\n",
    "\n",
    "        # 由于只有一个句子，所有的 token 都属于同一句\n",
    "        segments_tensor = torch.tensor([0] * len(word_pieces), dtype=torch.long)\n",
    "\n",
    "        return (tokens_tensor, segments_tensor, label_tensor)\n",
    "\n",
    "    def __len__(self):\n",
    "        return self.len\n",
    "\n"
   ]
  },
  {
   "cell_type": "code",
   "execution_count": 151,
   "metadata": {},
   "outputs": [],
   "source": [
    "json_file_name = 'data_cleaned.json'\n",
    "# 使用中文 BERT 分词器初始化训练集\n",
    "trainset = ComplaintsDataset(\"train\", tokenizer, json_file_name, split_ratio=0.8)\n",
    "valset = ComplaintsDataset(\"val\", tokenizer, json_file_name, split_ratio=0.8)"
   ]
  },
  {
   "cell_type": "code",
   "execution_count": 132,
   "metadata": {},
   "outputs": [
    {
     "name": "stdout",
     "output_type": "stream",
     "text": [
      "[原始文本]\n",
      "内容：市民反映，海淀区西北旺镇永丰屯村手机店都是无照经营，市民表示已经很长时间了，市民之前没有联系过其他部门，市场监管局也只是关了没有营业执照的饭店，其他店铺没有关闭，来电反映店铺无照经营问题\n",
      "注：市民要求保密个人信息（已解释）。\n",
      "分类：无证无照经营整治\n",
      "\n",
      "--------------------\n",
      "\n",
      "[Dataset 返回的 tensors]\n",
      "tokens_tensor  ：tensor([ 101, 2356, 3696, 1353, 3216, 8024, 3862, 3895, 1277, 6205, 1266, 3200,\n",
      "        7252, 3719,  705, 2254, 3333, 2797, 3322, 2421, 6963, 3221, 3187, 4212,\n",
      "        5307, 5852, 8024, 2356, 3696, 6134, 4850, 2347, 5307, 2523, 7270, 3198,\n",
      "        7313,  749, 8024, 2356, 3696,  722, 1184, 3766, 3300, 5468, 5143, 6814,\n",
      "        1071,  800, 6956, 7305, 8024, 2356, 1767, 4664, 5052, 2229,  738, 1372,\n",
      "        3221, 1068,  749, 3766, 3300, 5852,  689, 2809, 4212, 4638, 7649, 2421,\n",
      "        8024, 1071,  800, 2421, 7215, 3766, 3300, 1068, 7308, 8024, 3341, 4510,\n",
      "        1353, 3216, 2421, 7215, 3187, 4212, 5307, 5852, 7309, 7579, 3800, 8038,\n",
      "        2356, 3696, 6206, 3724,  924, 2166,  702,  782,  928, 2622, 8020, 2347,\n",
      "        6237, 7025, 8021,  511,  102])\n",
      "\n",
      "segments_tensor：tensor([0, 0, 0, 0, 0, 0, 0, 0, 0, 0, 0, 0, 0, 0, 0, 0, 0, 0, 0, 0, 0, 0, 0, 0,\n",
      "        0, 0, 0, 0, 0, 0, 0, 0, 0, 0, 0, 0, 0, 0, 0, 0, 0, 0, 0, 0, 0, 0, 0, 0,\n",
      "        0, 0, 0, 0, 0, 0, 0, 0, 0, 0, 0, 0, 0, 0, 0, 0, 0, 0, 0, 0, 0, 0, 0, 0,\n",
      "        0, 0, 0, 0, 0, 0, 0, 0, 0, 0, 0, 0, 0, 0, 0, 0, 0, 0, 0, 0, 0, 0, 0, 0,\n",
      "        0, 0, 0, 0, 0, 0, 0, 0, 0, 0, 0, 0, 0, 0, 0, 0, 0])\n",
      "\n",
      "label_tensor   ：3\n",
      "\n",
      "--------------------\n",
      "\n",
      "[还原 tokens_tensors]\n",
      "[CLS]市民反映，海淀区西北旺镇永丰屯村手机店都是无照经营，市民表示已经很长时间了，市民之前没有联系过其他部门，市场监管局也只是关了没有营业执照的饭店，其他店铺没有关闭，来电反映店铺无照经营问题注：市民要求保密个人信息（已解释）。[SEP]\n",
      "\n"
     ]
    }
   ],
   "source": [
    "# 选择第一个样本\n",
    "sample_idx = 0\n",
    "\n",
    "# 从数据集中取出原始文本和标签进行比较\n",
    "text, label = trainset.df.iloc[sample_idx][['来电内容', '举报专项']]\n",
    "\n",
    "# 利用刚才建立的 Dataset 取出转换后的 id tensors\n",
    "tokens_tensor, segments_tensor, label_tensor = trainset[sample_idx]\n",
    "\n",
    "# 将 tokens_tensor 还原成文本\n",
    "tokens = bert_chinese_tokenizer.convert_ids_to_tokens(tokens_tensor.tolist())\n",
    "combined_text = \"\".join(tokens)\n",
    "\n",
    "# 渲染前后差异\n",
    "print(f\"\"\"[原始文本]\n",
    "内容：{text}\n",
    "分类：{label}\n",
    "\n",
    "--------------------\n",
    "\n",
    "[Dataset 返回的 tensors]\n",
    "tokens_tensor  ：{tokens_tensor}\n",
    "\n",
    "segments_tensor：{segments_tensor}\n",
    "\n",
    "label_tensor   ：{label_tensor}\n",
    "\n",
    "--------------------\n",
    "\n",
    "[还原 tokens_tensors]\n",
    "{combined_text}\n",
    "\"\"\")  \n"
   ]
  },
  {
   "cell_type": "code",
   "execution_count": 155,
   "metadata": {},
   "outputs": [],
   "source": [
    "# 这个函数的输入 `samples` 是一个列表，其中的每个元素都是\n",
    "# `ComplaintsDataset` 返回的一个样本，每个样本都包含 3 个张量：\n",
    "# - tokens_tensor\n",
    "# - segments_tensor\n",
    "# - label_tensor\n",
    "# 它将对 tokens_tensor 进行 zero padding，并生成 masks_tensors\n",
    "\n",
    "\n",
    "# 定义 create_mini_batch 函数（如果尚未定义）\n",
    "def create_mini_batch(samples, max_seq_length=512):\n",
    "    tokens_tensors = [s[0] for s in samples]\n",
    "    masks_tensors = [s[1] for s in samples]\n",
    "\n",
    "    # 截断超长序列\n",
    "    tokens_tensors = [t if t.size(0) <= max_seq_length else t[:max_seq_length] for t in tokens_tensors]\n",
    "    masks_tensors = [m if m.size(0) <= max_seq_length else m[:max_seq_length] for m in masks_tensors]\n",
    "\n",
    "    if samples[0][2] is not None:\n",
    "        label_ids = torch.stack([s[2] for s in samples])\n",
    "    else:\n",
    "        label_ids = None\n",
    "\n",
    "    tokens_tensors = pad_sequence(tokens_tensors, batch_first=True)\n",
    "    masks_tensors = pad_sequence(masks_tensors, batch_first=True)\n",
    "    masks_tensors = masks_tensors.masked_fill(tokens_tensors != 0, 1)\n",
    "\n",
    "    return tokens_tensors, masks_tensors, label_ids\n",
    "\n",
    "# 设置批处理大小\n",
    "BATCH_SIZE = 32\n",
    "\n",
    "#\n",
    "trainloader = DataLoader(trainset, batch_size=BATCH_SIZE, collate_fn=lambda x: create_mini_batch(x, max_seq_length=512), shuffle=True)\n",
    "valloader = DataLoader(valset, batch_size=BATCH_SIZE, collate_fn=lambda x: create_mini_batch(x, max_seq_length=512))\n",
    "\n"
   ]
  },
  {
   "cell_type": "code",
   "execution_count": 156,
   "metadata": {},
   "outputs": [
    {
     "data": {
      "text/plain": [
       "196004"
      ]
     },
     "execution_count": 156,
     "metadata": {},
     "output_type": "execute_result"
    }
   ],
   "source": [
    "len(trainloader)"
   ]
  },
  {
   "cell_type": "code",
   "execution_count": 135,
   "metadata": {},
   "outputs": [
    {
     "name": "stdout",
     "output_type": "stream",
     "text": [
      "\n",
      "tokens_tensors.shape   = torch.Size([32, 558]) \n",
      "tensor([[ 101, 2356, 3696,  ...,    0,    0,    0],\n",
      "        [ 101, 2356, 3696,  ...,    0,    0,    0],\n",
      "        [ 101, 2356, 3696,  ...,    0,    0,    0],\n",
      "        ...,\n",
      "        [ 101, 2356, 3696,  ...,    0,    0,    0],\n",
      "        [ 101, 2356, 3696,  ...,    0,    0,    0],\n",
      "        [ 101, 2356, 3696,  ...,    0,    0,    0]])\n",
      "------------------------\n",
      "masks_tensors.shape    = torch.Size([32, 558])\n",
      "tensor([[1, 1, 1,  ..., 0, 0, 0],\n",
      "        [1, 1, 1,  ..., 0, 0, 0],\n",
      "        [1, 1, 1,  ..., 0, 0, 0],\n",
      "        ...,\n",
      "        [1, 1, 1,  ..., 0, 0, 0],\n",
      "        [1, 1, 1,  ..., 0, 0, 0],\n",
      "        [1, 1, 1,  ..., 0, 0, 0]])\n",
      "------------------------\n",
      "label_ids.shape        = torch.Size([32])\n",
      "tensor([0, 1, 1, 0, 1, 1, 0, 0, 4, 4, 2, 6, 0, 1, 1, 0, 0, 2, 0, 1, 4, 1, 0, 0,\n",
      "        0, 0, 0, 1, 0, 0, 0, 0])\n",
      "\n"
     ]
    }
   ],
   "source": [
    "data = next(iter(trainloader))\n",
    "\n",
    "tokens_tensors, masks_tensors, label_ids = data\n",
    "\n",
    "print(f\"\"\"\n",
    "tokens_tensors.shape   = {tokens_tensors.shape} \n",
    "{tokens_tensors}\n",
    "------------------------\n",
    "masks_tensors.shape    = {masks_tensors.shape}\n",
    "{masks_tensors}\n",
    "------------------------\n",
    "label_ids.shape        = {label_ids.shape}\n",
    "{label_ids}\n",
    "\"\"\")\n"
   ]
  },
  {
   "cell_type": "markdown",
   "metadata": {},
   "source": [
    "# Bert Training"
   ]
  },
  {
   "cell_type": "code",
   "execution_count": 136,
   "metadata": {},
   "outputs": [
    {
     "name": "stderr",
     "output_type": "stream",
     "text": [
      "Some weights of the model checkpoint at bert-base-chinese were not used when initializing BertForSequenceClassification: ['cls.predictions.bias', 'cls.predictions.transform.LayerNorm.bias', 'cls.seq_relationship.bias', 'cls.predictions.transform.dense.bias', 'cls.predictions.decoder.weight', 'cls.predictions.transform.dense.weight', 'cls.predictions.transform.LayerNorm.weight', 'cls.seq_relationship.weight']\n",
      "- This IS expected if you are initializing BertForSequenceClassification from the checkpoint of a model trained on another task or with another architecture (e.g. initializing a BertForSequenceClassification model from a BertForPreTraining model).\n",
      "- This IS NOT expected if you are initializing BertForSequenceClassification from the checkpoint of a model that you expect to be exactly identical (initializing a BertForSequenceClassification model from a BertForSequenceClassification model).\n",
      "Some weights of BertForSequenceClassification were not initialized from the model checkpoint at bert-base-chinese and are newly initialized: ['classifier.weight', 'classifier.bias']\n",
      "You should probably TRAIN this model on a down-stream task to be able to use it for predictions and inference.\n"
     ]
    },
    {
     "name": "stdout",
     "output_type": "stream",
     "text": [
      "name            module\n",
      "----------------------\n",
      "bert:embeddings\n",
      "bert:encoder\n",
      "bert:pooler\n",
      "dropout         Dropout(p=0.1, inplace=False)\n",
      "classifier      Linear(in_features=768, out_features=11, bias=True)\n"
     ]
    }
   ],
   "source": [
    "# 加载一个可以进行中文文本分类的预训练模型，num_labels 应该是您的标签数量\n",
    "PRETRAINED_MODEL_NAME = \"bert-base-chinese\"\n",
    "NUM_LABELS = len(trainset.label_map)  # 假设您的标签数量等于 trainset 中不同标签的数量\n",
    "\n",
    "# 加载预训练模型和配置\n",
    "config = BertConfig.from_pretrained(PRETRAINED_MODEL_NAME, num_labels=NUM_LABELS)\n",
    "model = BertForSequenceClassification.from_pretrained(PRETRAINED_MODEL_NAME, config=config)\n",
    "\n",
    "# 显示此模型中的模块\n",
    "print(\"name            module\\n----------------------\")\n",
    "for name, module in model.named_children():\n",
    "    if name == \"bert\":\n",
    "        for n, _ in module.named_children():\n",
    "            print(f\"{name}:{n}\")\n",
    "    else:\n",
    "        print(\"{:15} {}\".format(name, module))\n"
   ]
  },
  {
   "cell_type": "code",
   "execution_count": 149,
   "metadata": {},
   "outputs": [],
   "source": [
    "class BertForSingleSequenceClassification(BertPreTrainedModel):\n",
    "    def __init__(self, config, num_labels=2):\n",
    "        super(BertForSingleSequenceClassification, self).__init__(config)\n",
    "        self.num_labels = num_labels\n",
    "        self.bert = BertModel(config)  # 加载预训练 BERT\n",
    "        self.dropout = nn.Dropout(config.hidden_dropout_prob)\n",
    "        # 简单 linear 层\n",
    "        self.classifier = nn.Linear(config.hidden_size, num_labels)\n",
    "\n",
    "    def forward(self, input_ids, attention_mask=None, labels=None):\n",
    "        # BERT 输入就是 tokens 和 masks\n",
    "        outputs = self.bert(input_ids=input_ids, attention_mask=attention_mask)\n",
    "        \n",
    "        # 池化最后一层的 hidden state 的第一个 token 的输出\n",
    "        pooled_output = outputs[1]\n",
    "        pooled_output = self.dropout(pooled_output)\n",
    "        # 线性分类器将 dropout 后的 BERT 表示转成类别 logits\n",
    "        logits = self.classifier(pooled_output)\n",
    "\n",
    "        # 如果输入有 labels，则直接计算 Cross Entropy 并返回，方便！\n",
    "        if labels is not None:\n",
    "            loss_fct = CrossEntropyLoss()\n",
    "            loss = loss_fct(logits.view(-1, self.num_labels), labels.view(-1))\n",
    "            return loss\n",
    "\n",
    "        # 返回各类别的 logits\n",
    "        return logits"
   ]
  },
  {
   "cell_type": "code",
   "execution_count": 160,
   "metadata": {},
   "outputs": [
    {
     "ename": "RuntimeError",
     "evalue": "CUDA error: out of memory\nCUDA kernel errors might be asynchronously reported at some other API call,so the stacktrace below might be incorrect.\nFor debugging consider passing CUDA_LAUNCH_BLOCKING=1.",
     "output_type": "error",
     "traceback": [
      "\u001b[1;31m---------------------------------------------------------------------------\u001b[0m",
      "\u001b[1;31mRuntimeError\u001b[0m                              Traceback (most recent call last)",
      "Cell \u001b[1;32mIn[160], line 17\u001b[0m\n\u001b[0;32m     13\u001b[0m model\u001b[38;5;241m.\u001b[39mtrain()  \u001b[38;5;66;03m# 确保模型处于训练模式\u001b[39;00m\n\u001b[0;32m     15\u001b[0m \u001b[38;5;28;01mfor\u001b[39;00m data \u001b[38;5;129;01min\u001b[39;00m trainloader:\n\u001b[0;32m     16\u001b[0m     \u001b[38;5;66;03m# 将数据移动到 GPU 上\u001b[39;00m\n\u001b[1;32m---> 17\u001b[0m     tokens_tensors, masks_tensors, labels \u001b[38;5;241m=\u001b[39m [t\u001b[38;5;241m.\u001b[39mto(device) \u001b[38;5;28;01mfor\u001b[39;00m t \u001b[38;5;129;01min\u001b[39;00m data]\n\u001b[0;32m     19\u001b[0m     \u001b[38;5;66;03m# 将参数梯度归零\u001b[39;00m\n\u001b[0;32m     20\u001b[0m     optimizer\u001b[38;5;241m.\u001b[39mzero_grad()\n",
      "Cell \u001b[1;32mIn[160], line 17\u001b[0m, in \u001b[0;36m<listcomp>\u001b[1;34m(.0)\u001b[0m\n\u001b[0;32m     13\u001b[0m model\u001b[38;5;241m.\u001b[39mtrain()  \u001b[38;5;66;03m# 确保模型处于训练模式\u001b[39;00m\n\u001b[0;32m     15\u001b[0m \u001b[38;5;28;01mfor\u001b[39;00m data \u001b[38;5;129;01min\u001b[39;00m trainloader:\n\u001b[0;32m     16\u001b[0m     \u001b[38;5;66;03m# 将数据移动到 GPU 上\u001b[39;00m\n\u001b[1;32m---> 17\u001b[0m     tokens_tensors, masks_tensors, labels \u001b[38;5;241m=\u001b[39m [\u001b[43mt\u001b[49m\u001b[38;5;241;43m.\u001b[39;49m\u001b[43mto\u001b[49m\u001b[43m(\u001b[49m\u001b[43mdevice\u001b[49m\u001b[43m)\u001b[49m \u001b[38;5;28;01mfor\u001b[39;00m t \u001b[38;5;129;01min\u001b[39;00m data]\n\u001b[0;32m     19\u001b[0m     \u001b[38;5;66;03m# 将参数梯度归零\u001b[39;00m\n\u001b[0;32m     20\u001b[0m     optimizer\u001b[38;5;241m.\u001b[39mzero_grad()\n",
      "\u001b[1;31mRuntimeError\u001b[0m: CUDA error: out of memory\nCUDA kernel errors might be asynchronously reported at some other API call,so the stacktrace below might be incorrect.\nFor debugging consider passing CUDA_LAUNCH_BLOCKING=1."
     ]
    }
   ],
   "source": [
    "device = torch.device(\"cuda:0\" if torch.cuda.is_available() else \"cpu\")\n",
    "model = model.to(device)  # 确保模型在正确的设备上\n",
    "\n",
    "# 训练模式\n",
    "model.train()\n",
    "\n",
    "# 使用 Adam Optimizer 更新整个分类模型的参数\n",
    "optimizer = torch.optim.Adam(model.parameters(), lr=1e-5)\n",
    "\n",
    "EPOCHS = 5\n",
    "for epoch in range(EPOCHS):\n",
    "    running_loss = 0.0\n",
    "    model.train()  # 确保模型处于训练模式\n",
    "\n",
    "    for data in trainloader:\n",
    "        # 将数据移动到 GPU 上\n",
    "        tokens_tensors, masks_tensors, labels = [t.to(device) for t in data]\n",
    "\n",
    "        # 将参数梯度归零\n",
    "        optimizer.zero_grad()\n",
    "        \n",
    "        # forward pass\n",
    "        outputs = model(input_ids=tokens_tensors, \n",
    "                        attention_mask=masks_tensors, \n",
    "                        labels=labels)\n",
    "\n",
    "        loss = outputs.loss\n",
    "        # backward\n",
    "        loss.backward()\n",
    "        optimizer.step()\n",
    "\n",
    "        # 记录当前 batch loss\n",
    "        running_loss += loss.item()\n",
    "\n",
    "    # 计算在训练集上的分类准确率\n",
    "    _, train_acc = get_predictions(model, trainloader, compute_acc=True)\n",
    "\n",
    "    # 计算在验证集上的分类准确率\n",
    "    model.eval()  # 设置模型为评估模式\n",
    "    _, val_acc = get_predictions(model, valloader, compute_acc=True)\n",
    "\n",
    "    print(f'[epoch {epoch + 1}] loss: {running_loss:.3f}, train acc: {train_acc:.3f}, val acc: {val_acc:.3f}')\n"
   ]
  },
  {
   "cell_type": "markdown",
   "metadata": {},
   "source": [
    "## 2. Modeling\n",
    "\n",
    "Now, please perform feature engineering to build a model that can predict whether the users are active. (To get full credit, you need to make some visualization and try out several different models using cross validation)"
   ]
  },
  {
   "cell_type": "code",
   "execution_count": 19,
   "metadata": {},
   "outputs": [
    {
     "name": "stdout",
     "output_type": "stream",
     "text": [
      "RandomForestClassifier Cross-Validation Accuracy: 0.7769\n",
      "LogisticRegression Cross-Validation Accuracy: 0.7170\n",
      "AdaBoostClassifier Cross-Validation Accuracy: 0.7813\n"
     ]
    },
    {
     "data": {
      "image/png": "[encoded data removed]",
      "text/plain": [
       "<Figure size 800x600 with 1 Axes>"
      ]
     },
     "metadata": {},
     "output_type": "display_data"
    }
   ],
   "source": [
    "from sklearn.model_selection import cross_val_score\n",
    "from sklearn.preprocessing import MinMaxScaler\n",
    "from sklearn.ensemble import RandomForestClassifier\n",
    "from sklearn.linear_model import LogisticRegression\n",
    "from sklearn.ensemble import AdaBoostClassifier\n",
    "\n",
    "# Normalize all features\n",
    "scaler = MinMaxScaler(feature_range=(0,1))\n",
    "X_scaled = scaler.fit_transform(X)\n",
    "\n",
    "seed = 0\n",
    "models = [RandomForestClassifier(n_estimators=50,\n",
    "                                 max_depth=10,\n",
    "                                 oob_score=True,\n",
    "                                 class_weight=\"balanced\", \n",
    "                                 random_state=seed),\n",
    "          LogisticRegression(penalty = \"l2\",\n",
    "                             C = 1,\n",
    "                             fit_intercept=True,\n",
    "                            #  class_weight=\"balanced\",\n",
    "                             solver = 'newton-cholesky',\n",
    "                             random_state=seed), \n",
    "          AdaBoostClassifier(n_estimators=100,\n",
    "                             learning_rate=0.85,\n",
    "                             algorithm=\"SAMME.R\",\n",
    "                             random_state=seed)]\n",
    "scores_list = []\n",
    "\n",
    "for model in models:\n",
    "    scores = cross_val_score(model, X_scaled, y, cv=5, scoring='accuracy')\n",
    "    scores_list.append(scores)\n",
    "    print(f\"{model.__class__.__name__} Cross-Validation Accuracy: {scores.mean():.4f}\")\n",
    "\n",
    "plt.figure(figsize=(8, 6))\n",
    "models_names = ['RandomForest', 'LogisticRegression', 'AdaBoost']\n",
    "scores_means = [scores.mean() for scores in scores_list]\n",
    "sns.barplot(x=models_names, y=scores_means)\n",
    "plt.xlabel('Model')\n",
    "plt.ylabel('Cross-Validation Accuracy')\n",
    "plt.title('Cross-Validation Accuracy Comparison for Different Models')\n",
    "plt.xticks(rotation=45)\n",
    "plt.ylim(0.7, 0.9)\n",
    "plt.show()\n"
   ]
  },
  {
   "cell_type": "markdown",
   "metadata": {},
   "source": [
    "## 3. Model Evaluation\n",
    "\n",
    "The bottom line here is: Was the model useful? You need to check both **numerical metrics and visual metrics**. **Please explain different performance metrics and your results.**"
   ]
  },
  {
   "cell_type": "code",
   "execution_count": 20,
   "metadata": {},
   "outputs": [
    {
     "name": "stdout",
     "output_type": "stream",
     "text": [
      "AdaBoost cross-validation accuracy： 0.7813\n"
     ]
    }
   ],
   "source": [
    "from sklearn.metrics import classification_report, confusion_matrix\n",
    "\n",
    "# Build an AdaBoostClassifier and perform cross-validation\n",
    "adaboost_model = AdaBoostClassifier(n_estimators=100,\n",
    "                             learning_rate=0.85,\n",
    "                             algorithm=\"SAMME.R\",\n",
    "                             random_state=seed)\n",
    "adaboost_scores = cross_val_score(adaboost_model, X_scaled, y, cv=5, scoring='accuracy')\n",
    "\n",
    "# Output cross-validation accuracy.\n",
    "print(f\"AdaBoost cross-validation accuracy： {adaboost_scores.mean():.4f}\")"
   ]
  },
  {
   "cell_type": "code",
   "execution_count": 21,
   "metadata": {},
   "outputs": [
    {
     "data": {
      "image/png": "[encoded data removed]",
      "text/plain": [
       "<Figure size 600x400 with 2 Axes>"
      ]
     },
     "metadata": {},
     "output_type": "display_data"
    }
   ],
   "source": [
    "# Train the model using the entire dataset and make predictions.\n",
    "adaboost_model.fit(X_scaled, y)\n",
    "y_pred = adaboost_model.predict(X_scaled)\n",
    "# Calculate the confusion matrix.\n",
    "conf_matrix = confusion_matrix(y, y_pred)\n",
    "# Visualize the confusion matrix\n",
    "plt.figure(figsize=(6, 4))\n",
    "sns.heatmap(conf_matrix, annot=True, fmt='d', cmap='Blues')\n",
    "plt.xlabel('Predicted Labels')\n",
    "plt.ylabel('True Labels')\n",
    "plt.title('Confusion Matrix for AdaBoost Model')\n",
    "plt.show()"
   ]
  },
  {
   "cell_type": "markdown",
   "metadata": {},
   "source": [
    "Accuracy is an evaluation metric for classification models, reflecting the percentage of correct predictions out of all predictions made.\n",
    "\n",
    "Precision is another metric, spotlighting the proportion of accurately predicted positive samples among all samples predicted as positive. It underlines the veracity of positive predictions.\n",
    "\n",
    "Recall quantifies a classifier's competence in accurately identifying positive samples. It emphasizes the number of positive samples correctly predicted out of the total true positive samples.\n",
    "\n",
    "Given their respective areas of focus, precision and recall are frequently employed evaluation metrics in classification problems. As they concurrently examine the precision of predictions and the capacity to correctly identify positive samples, it's important to consider both metrics for a well-rounded evaluation."
   ]
  },
  {
   "cell_type": "code",
   "execution_count": 22,
   "metadata": {},
   "outputs": [
    {
     "name": "stdout",
     "output_type": "stream",
     "text": [
      "Classification Report:\n",
      "               precision    recall  f1-score   support\n",
      "\n",
      "       False       0.80      0.86      0.83     29404\n",
      "        True       0.74      0.65      0.69     17724\n",
      "\n",
      "    accuracy                           0.78     47128\n",
      "   macro avg       0.77      0.76      0.76     47128\n",
      "weighted avg       0.78      0.78      0.78     47128\n",
      "\n"
     ]
    }
   ],
   "source": [
    "# Output classification report.\n",
    "class_report = classification_report(y, y_pred)\n",
    "print(\"Classification Report:\\n\", class_report)"
   ]
  },
  {
   "cell_type": "code",
   "execution_count": 23,
   "metadata": {
    "scrolled": true
   },
   "outputs": [
    {
     "data": {
      "image/png": "[encoded data removed]",
      "text/plain": [
       "<Figure size 1000x600 with 1 Axes>"
      ]
     },
     "metadata": {},
     "output_type": "display_data"
    }
   ],
   "source": [
    " # Get feature importance and sort it.\n",
    "feature_importance = adaboost_model.feature_importances_\n",
    "sorted_indices = np.argsort(feature_importance)[::-1]\n",
    "\n",
    "# Visualize based on the sorted feature importance.\n",
    "plt.figure(figsize=(10, 6))\n",
    "sns.barplot(x=feature_importance[sorted_indices], y=X.columns[sorted_indices])\n",
    "plt.xlabel('Feature Importance')\n",
    "plt.ylabel('Feature Name')\n",
    "plt.title('Feature Importance Sorted Chart')\n",
    "plt.xticks(rotation=90)\n",
    "plt.show()"
   ]
  },
  {
   "cell_type": "markdown",
   "metadata": {},
   "source": [
    "\"Feature importance\" denotes a measurement utilized in machine learning models to gauge the influence of input features on the predictive results of the model. This metric assists in determining which features substantially impact the model's decision-making process. As indicated by the graph, weekday_pct emerges as the most significant feature, corroborating our intuitive supposition."
   ]
  },
  {
   "cell_type": "markdown",
   "metadata": {},
   "source": [
    "## 4. Final Submission\n",
    "\n"
   ]
  },
  {
   "cell_type": "markdown",
   "metadata": {},
   "source": [
    "\n",
    "The following code will write your predictions on the test dataset to a CSV file. **You will need to submit this file to get credit for this question.**\n",
    "\n",
    "Save your predictions in a 1-dimensional array called `test_predictions` (contains 0 and 1s). \n",
    "\n",
    "Remember that if you've performed transformations or featurization on the training data, you must also perform the same transformations on the test data in order to make predictions. \n",
    "\n",
    "\n",
    "\n",
    "### Submission on Gitea\n",
    "\n",
    "Please push all your work (ipynb, submission.csv) to the `-final` repo on Gitea. All your work should be on the master branch. \n",
    "\n",
    "### Submission on Canvas\n",
    "\n",
    "Just in case you have issues with Git, submit the same items on Canvas.\n",
    "\n",
    "\n"
   ]
  },
  {
   "cell_type": "code",
   "execution_count": 24,
   "metadata": {},
   "outputs": [],
   "source": [
    "# Load and preprocess test data\n",
    "test = pd.read_csv('data/test.csv')\n",
    "# Fill missing values in avg_rating_by_driver and avg_rating_of_driver\n",
    "test['avg_rating_by_driver'].fillna(test['avg_rating_by_driver'].mean(), inplace=True)\n",
    "test['avg_rating_of_driver'].fillna(test['avg_rating_of_driver'].mean(), inplace=True)\n",
    "test_encoded = pd.get_dummies(test)\n",
    "test_encoded = test_encoded[X.columns]\n",
    "test_scaled = scaler.transform(test_encoded)\n",
    "# Make predictions on the test data\n",
    "test_predictions = adaboost_model.predict(test_scaled)"
   ]
  },
  {
   "cell_type": "code",
   "execution_count": 25,
   "metadata": {},
   "outputs": [
    {
     "name": "stdout",
     "output_type": "stream",
     "text": [
      "Created a CSV file: submission.csv\n",
      "You may now upload this CSV file to Gitea for grading.\n"
     ]
    }
   ],
   "source": [
    "submission_df = pd.DataFrame({ \n",
    "    \"active\": test_predictions\n",
    "}, columns=['active'])\n",
    "submission_df.to_csv(\"submission.csv\", index=False)\n",
    "\n",
    "print('Created a CSV file: submission.csv')\n",
    "print('You may now upload this CSV file to Gitea for grading.')"
   ]
  },
  {
   "cell_type": "code",
   "execution_count": null,
   "metadata": {},
   "outputs": [],
   "source": []
  }
 ],
 "metadata": {
  "kernelspec": {
   "display_name": "Python 3 (ipykernel)",
   "language": "python",
   "name": "python3"
  },
  "language_info": {
   "codemirror_mode": {
    "name": "ipython",
    "version": 3
   },
   "file_extension": ".py",
   "mimetype": "text/x-python",
   "name": "python",
   "nbconvert_exporter": "python",
   "pygments_lexer": "ipython3",
   "version": "3.9.7"
  },
  "vscode": {
   "interpreter": {
    "hash": "fa21447ba3ca0ac29cfe033d1e623e3db9da50a3031a1ad33c9e1c367d9ba6e8"
   }
  }
 },
 "nbformat": 4,
 "nbformat_minor": 2
}
